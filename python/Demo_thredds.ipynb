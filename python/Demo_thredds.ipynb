{
 "cells": [
  {
   "cell_type": "markdown",
   "metadata": {},
   "source": [
    "**Demo for using NASA NEX DCP30 data over thredds server.**\n",
    "\n",
    "Done by script (user can modify, but should not be necessary)\n",
    "\n",
    "1. Initialise server path, variable names, scenarios\n",
    "2. Get model names\n",
    "3. Initialize variable, scenario and model dictionary\n",
    "4. Suggest dictionary kind of data types\n",
    "\n",
    "User should\n",
    "1. Change the selection of models\n",
    "2. --\"--                   area\n",
    "3. --\"--                   time range\n",
    "4. --\"--                   scenarios\n",
    "\n",
    "Main data variables:\n",
    "\n",
    "**full_model_list** -- python dictionary with subdictionary hierarchy of: variable, scenario, model. Derived with function *fetch_model_names*\n",
    "                   Example: full_model_list['pr']['rcp26']['BNU-ESM_pr']=[ 'http://dataserver.nccs.nasa.gov/thredds/dodsC/bypass/NEX-DCP30/bcsd/rcp26/r1i1p1/BNU-ESM_pr.ncml']\n",
    "\n",
    "**model_data** -- \n",
    "\n",
    "Coordinate selection:\n",
    "\n",
    "**tim1, tim2** -- time bounds for *historical* experiments. Numbers (units?)\n",
    "**timrcp1, timrcp2 ** -- time bound for *scenario* experiments. \n",
    "**lon1,lon2,lat1,lat2** -- geographical boundaries, by data points (not coordinate values)\n",
    "\n",
    "Coordinate values:\n",
    "\n",
    "** tim, tim_full ** -- values of actual historical time slice, computed in units ?\n",
    "\n",
    "** timrcp, timrcp_full ** -- values of actual scenario time slice\n",
    "\n",
    "** lat, lon ** -- values of actual coordinates, computed, in degrees"
   ]
  },
  {
   "cell_type": "code",
   "execution_count": null,
   "metadata": {
    "collapsed": true
   },
   "outputs": [],
   "source": [
    "## User configurables\n",
    "## TDS base URL\n",
    "tds_url_base='http://dataserver.nccs.nasa.gov/thredds/dodsC/bypass/NEX-DCP30/bcsd'\n",
    "## Scenarios \n",
    "scenarios=['historical','rcp26','rcp45','rcp60','rcp85']\n",
    "## Realisation?\n",
    "url_step2='r1i1p1'\n",
    "## Available variables\n",
    "variables=['tasmin','tasmax','pr']\n",
    "\n",
    "## Coordinate limits, if too large then download fails\n",
    "tim1=0\n",
    "tim2=672\n",
    "lon1=1000\n",
    "lon2=1001\n",
    "lat1=1200\n",
    "lat2=1201\n"
   ]
  },
  {
   "cell_type": "code",
   "execution_count": 120,
   "metadata": {
    "collapsed": true
   },
   "outputs": [],
   "source": [
    "## general imports\n",
    "%matplotlib inline\n",
    "import numpy as np\n",
    "import time\n",
    "import re\n",
    "import urllib2\n",
    "from pydap.client import open_url\n",
    "import matplotlib.pyplot as plt\n",
    "\n"
   ]
  },
  {
   "cell_type": "code",
   "execution_count": 306,
   "metadata": {
    "collapsed": false
   },
   "outputs": [],
   "source": [
    "def fetch_model_names(scenario,variable):\n",
    "    \"\"\"\n",
    "    Select models from the server. \n",
    "    Not all models are available for all scenarios\"\"\"\n",
    "    xmlpath=\"/\".join([tds_url_base,scenario,'r1i1p1','catalog.xml'])\n",
    "    #print(xmlpath)\n",
    "    abxml=urllib2.urlopen(xmlpath)\n",
    "    prog=re.compile(\"name=\\\"[a-zA-Z0-9\\-\\_]+_{0}.ncml\\\"\".format(variable))\n",
    "    mudell={}\n",
    "        \n",
    "    for i in abxml.readlines():\n",
    "        a=prog.search(i)\n",
    "        #print(i)\n",
    "        if a:\n",
    "            # no need to really initialise the opendap endpoint\n",
    "            mudell[a.group().split('=')[1].split('.')[0][1:]]=tds_url_base+\"/\"+scenario+\"/r1i1p1/\"+a.group().split('=')[1].split('.')[0][1:]+'.ncml'\n",
    "    return mudell\n",
    "\n",
    "## Compute mean subset of models, careful, takes time\n",
    "def get_subset(invars,scenarios,models):\n",
    "    \"\"\"Fetch actual data according to vars and scenarios\"\"\"\n",
    "    model_data={}\n",
    "    for v in invars:\n",
    "        print('v',v)\n",
    "        model_data[v]={}\n",
    "        for sc in scenarios:\n",
    "            print('sc',sc)\n",
    "            model_data[v][sc]={}\n",
    "            for model in models:\n",
    "                print('model',model)\n",
    "                model_data[v][sc][model]={'url':open_url(full_model_list[v][sc][model])}\n",
    "                prtemp=model_data[v][sc][model]['url'][model][model]\n",
    "                model_data[v][sc][model][v]=prtemp[tim1:tim2,lat1:lat2,lon1:lon2]\n",
    "    return model_data\n",
    "                \n",
    "def mean_of_subset(inarray,variables,scenarios):\n",
    "    sum_mean_array=np.zeros(tim2-tim1)\n",
    "##a=[model_data['pr'][i][j]['pr'] for i in model_data['pr'] for j in model_data['pr'][i]]\n",
    "    a=[model_data['pr']['historical'][j]['pr'] for j in model_data['pr']['historical']]\n",
    "    counter=0\n",
    "    for i in a:\n",
    "        sum_mean_array=sum_mean_array+np.mean(np.mean(i,axis=1),axis=1)\n",
    "    sum_mean_array=sum_mean_array/len(a)\n",
    "    \n"
   ]
  },
  {
   "cell_type": "code",
   "execution_count": 124,
   "metadata": {
    "collapsed": false
   },
   "outputs": [],
   "source": [
    "def fetch_model_list(scenario):\n",
    "    \"\"\"Get models, which are available for particular scenario as pydab objects (slow for many models)\"\"\"\n",
    "    xmlpath=\"/\".join([tds_url_base,scenario,'r1i1p1','catalog.xml'])\n",
    "    #print(xmlpath)\n",
    "    abxml=urllib2.urlopen(xmlpath)\n",
    "    prog=re.compile(\"name=\\\"[a-zA-Z0-9\\-\\_]+_pr.ncml\\\"\")\n",
    "    mudell={}\n",
    "        \n",
    "    for i in abxml.readlines():\n",
    "        a=prog.search(i)\n",
    "        #print(i)\n",
    "        if a:\n",
    "            # no need to really initialise the opendap endpoint\n",
    "            mudell[a.group().split('=')[1].split('.')[0][1:]]=open_url(tds_url_base+\"/\"+scenario+\"/r1i1p1/\"+a.group().split('=')[1].split('.')[0][1:]+'.ncml')\n",
    "    return mudell"
   ]
  },
  {
   "cell_type": "code",
   "execution_count": 134,
   "metadata": {
    "collapsed": true
   },
   "outputs": [],
   "source": [
    "full_model_list={}\n",
    "for v in variables:\n",
    "    full_model_list[v]={}\n",
    "    for i in scenarios:\n",
    "        full_model_list[v][i]=fetch_model_names(i)"
   ]
  },
  {
   "cell_type": "code",
   "execution_count": 284,
   "metadata": {
    "collapsed": false
   },
   "outputs": [],
   "source": [
    "## Fetch any single model_scenario data"
   ]
  },
  {
   "cell_type": "code",
   "execution_count": 299,
   "metadata": {
    "collapsed": false
   },
   "outputs": [],
   "source": [
    "uioi=open_url(full_model_list['pr']['historical']['ACCESS1-0_pr'])"
   ]
  },
  {
   "cell_type": "code",
   "execution_count": 272,
   "metadata": {
    "collapsed": false,
    "scrolled": true
   },
   "outputs": [],
   "source": [
    "## simplify name\n",
    "pr1=uioi['ACCESS1-0_pr']['ACCESS1-0_pr']"
   ]
  },
  {
   "cell_type": "code",
   "execution_count": 273,
   "metadata": {
    "collapsed": false
   },
   "outputs": [],
   "source": [
    "## fetch coordinates, should be the same for rcp-s and all models\n",
    "##lon=np.copy(uioi['lon'][1000:1050])\n",
    "tim_full=np.copy(uioi['time'][:])\n",
    "tim=np.copy(uioi['time'][tim1:tim2])"
   ]
  },
  {
   "cell_type": "code",
   "execution_count": 274,
   "metadata": {
    "collapsed": true
   },
   "outputs": [],
   "source": [
    "lat=np.copy(uioi['lat'][lat1:lat2])\n",
    "lon=np.copy(uioi['lon'][lon1:lon2])"
   ]
  },
  {
   "cell_type": "code",
   "execution_count": 275,
   "metadata": {
    "collapsed": true
   },
   "outputs": [],
   "source": [
    "## historical and scenarios should have different time values\n",
    "uioi2=open_url(full_model_list['pr']['rcp45']['ACCESS1-0_pr'])\n",
    "timrcp_full=np.copy(uioi2['time'][:])\n",
    "timrcp=np.copy(uioi2['time'][timrcp1:timrcp2])"
   ]
  },
  {
   "cell_type": "code",
   "execution_count": 307,
   "metadata": {
    "collapsed": false,
    "scrolled": true
   },
   "outputs": [
    {
     "name": "stdout",
     "output_type": "stream",
     "text": [
      "('v', 'pr')\n",
      "('sc', 'historical')\n",
      "('model', 'CCSM4_pr')\n",
      "('model', 'MIROC-ESM-CHEM_pr')\n",
      "('model', 'MRI-CGCM3_pr')\n",
      "('model', 'bcc-csm1-1_pr')\n",
      "('sc', 'rcp45')\n",
      "('model', 'CCSM4_pr')\n",
      "('model', 'MIROC-ESM-CHEM_pr')\n",
      "('model', 'MRI-CGCM3_pr')\n",
      "('model', 'bcc-csm1-1_pr')\n"
     ]
    }
   ],
   "source": [
    "##example\n",
    "model_data=get_subset(['pr'],['historical','rcp45'],['CCSM4_pr','MIROC-ESM-CHEM_pr','MRI-CGCM3_pr','bcc-csm1-1_pr'])"
   ]
  },
  {
   "cell_type": "code",
   "execution_count": 310,
   "metadata": {
    "collapsed": false
   },
   "outputs": [
    {
     "data": {
      "text/plain": [
       "['rcp45', 'historical']"
      ]
     },
     "execution_count": 310,
     "metadata": {},
     "output_type": "execute_result"
    }
   ],
   "source": [
    "model_data['pr'].keys()"
   ]
  },
  {
   "cell_type": "code",
   "execution_count": 327,
   "metadata": {
    "collapsed": false
   },
   "outputs": [],
   "source": [
    "sum_mean={}\n",
    "aa={}\n",
    "for v in model_data:\n",
    "    aa[v]={}\n",
    "    sum_mean[v]={}\n",
    "    for sc in model_data[v]:\n",
    "        aa[v][sc]=[model_data[v][sc][j][v] for j in model_data[v][sc]]\n",
    "        aab=[model_data[v][sc][j][v] for j in model_data[v][sc]]\n",
    "        sum_mean[v][sc]=np.zeros(tim2-tim1)\n",
    "        for i in aab:\n",
    "            sum_mean[v][sc]=sum_mean[v][sc]+np.mean(np.mean(i,axis=1),axis=1)\n",
    "        sum_mean[v][sc]=sum_mean[v][sc]/len(a)"
   ]
  },
  {
   "cell_type": "code",
   "execution_count": 329,
   "metadata": {
    "collapsed": false
   },
   "outputs": [],
   "source": [
    "sum_mean_array=np.zeros(tim2-tim1)\n",
    "##a=[model_data['pr'][i][j]['pr'] for i in model_data['pr'] for j in model_data['pr'][i]]\n",
    "a=[model_data['pr']['historical'][j]['pr'] for j in model_data['pr']['historical']]\n",
    "counter=0\n",
    "for i in a:\n",
    "    sum_mean_array=sum_mean_array+np.mean(np.mean(i,axis=1),axis=1)\n",
    "sum_mean_array=sum_mean_array/len(a)\n",
    "##sum_mean_array=\n",
    "##[model_data['pr'][i][j]['pr'] for i in model_data['pr'] for j in model_data['pr'][i]]"
   ]
  },
  {
   "cell_type": "code",
   "execution_count": 278,
   "metadata": {
    "collapsed": false
   },
   "outputs": [],
   "source": [
    "##sum_mean_array_rcp=np.zeros(tim2-tim1)\n",
    "##a=[model_data['pr']['rcp45'][j]['pr'] for j in model_data['pr']['rcp45']]\n",
    "##counter=0\n",
    "##for i in a:\n",
    "##    sum_mean_array_rcp=sum_mean_array_rcp+np.mean(np.mean(i,axis=1),axis=1)\n",
    "##sum_mean_array_rcp=sum_mean_array_rcp/len(a)"
   ]
  },
  {
   "cell_type": "code",
   "execution_count": 330,
   "metadata": {
    "collapsed": false
   },
   "outputs": [
    {
     "data": {
      "text/plain": [
       "[<matplotlib.lines.Line2D at 0x10b61c650>]"
      ]
     },
     "execution_count": 330,
     "metadata": {},
     "output_type": "execute_result"
    },
    {
     "data": {
      "image/png": "[encoded data removed]",
      "text/plain": [
       "<matplotlib.figure.Figure at 0x10b61c890>"
      ]
     },
     "metadata": {},
     "output_type": "display_data"
    }
   ],
   "source": [
    "plt.plot(tim[tim1:tim2],sum_mean['pr']['historical'])\n",
    "plt.plot(timrcp[tim1:tim2],sum_mean['pr']['rcp45'])"
   ]
  },
  {
   "cell_type": "code",
   "execution_count": null,
   "metadata": {
    "collapsed": true
   },
   "outputs": [],
   "source": []
  }
 ],
 "metadata": {
  "kernelspec": {
   "display_name": "Python 2",
   "language": "python",
   "name": "python2"
  },
  "language_info": {
   "codemirror_mode": {
    "name": "ipython",
    "version": 2
   },
   "file_extension": ".py",
   "mimetype": "text/x-python",
   "name": "python",
   "nbconvert_exporter": "python",
   "pygments_lexer": "ipython2",
   "version": "2.7.9"
  }
 },
 "nbformat": 4,
 "nbformat_minor": 0
}
