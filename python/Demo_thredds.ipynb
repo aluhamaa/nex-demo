{
 "cells": [
  {
   "cell_type": "markdown",
   "metadata": {},
   "source": [
    "**Demo for using NASA NEX DCP30 data over thredds server.**\n",
    "\n",
    "Done by script (user can modify, but should not be necessary)\n",
    "\n",
    "1. Initialise server path, variable names, scenarios\n",
    "2. Get model names\n",
    "3. Initialize variable, scenario and model dictionary\n",
    "4. Suggest dictionary kind of data types\n",
    "\n",
    "User should\n",
    "1. Change the selection of models\n",
    "2. --\"--                   area\n",
    "3. --\"--                   time range\n",
    "4. --\"--                   scenarios\n",
    "5. Data analysis, based on example function *mean_of_subset*, if necessary\n",
    "6. Plotting data\n",
    "7. etc\n",
    "\n",
    "Main data variables:\n",
    "\n",
    "**full_model_list** -- python dictionary with subdictionary hierarchy of: variable, scenario, model. Derived with function *fetch_model_names*\n",
    "                   Example: full_model_list['pr']['rcp26']['BNU-ESM_pr']=[ 'http://dataserver.nccs.nasa.gov/thredds/dodsC/bypass/NEX-DCP30/bcsd/rcp26/r1i1p1/BNU-ESM_pr.ncml']\n",
    "\n",
    "**model_data** -- python dictionary: variable, scenario, model, [variable, url] -- data in full dimensions\n",
    "\n",
    "**model_mean** -- example of averaging over models and spatial domain\n",
    "\n",
    "Coordinate selection:\n",
    "\n",
    "**tim1, tim2** -- time bounds for *historical* experiments. Numbers (units?)\n",
    "**timrcp1, timrcp2 ** -- time bound for *scenario* experiments. \n",
    "**lon1,lon2,lat1,lat2** -- geographical boundaries, by data points (not coordinate values)\n",
    "\n",
    "Coordinate values:\n",
    "\n",
    "** tim, tim_full ** -- values of actual historical time slice, computed in units ?\n",
    "\n",
    "** timrcp, timrcp_full ** -- values of actual scenario time slice\n",
    "\n",
    "** lat, lon ** -- values of actual coordinates, computed, in degrees"
   ]
  },
  {
   "cell_type": "code",
   "execution_count": 350,
   "metadata": {
    "collapsed": true
   },
   "outputs": [],
   "source": [
    "## User configurables\n",
    "## TDS base URL\n",
    "tds_url_base='http://dataserver.nccs.nasa.gov/thredds/dodsC/bypass/NEX-DCP30/bcsd'\n",
    "## Scenarios \n",
    "scenarios=['historical','rcp26','rcp45','rcp60','rcp85']\n",
    "## Realisation?\n",
    "url_step2='r1i1p1'\n",
    "## Available variables\n",
    "variables=['tasmin','tasmax','pr']\n",
    "\n",
    "## Coordinate limits, if too large then download fails\n",
    "tim1=0\n",
    "tim2=100\n",
    "timrcp1=0\n",
    "timrcp2=200\n",
    "lon1=1000\n",
    "lon2=1001\n",
    "lat1=1200\n",
    "lat2=1201\n"
   ]
  },
  {
   "cell_type": "code",
   "execution_count": 351,
   "metadata": {
    "collapsed": true
   },
   "outputs": [],
   "source": [
    "## general imports\n",
    "%matplotlib inline\n",
    "import numpy as np\n",
    "import time\n",
    "import re\n",
    "import urllib2\n",
    "from pydap.client import open_url\n",
    "import matplotlib.pyplot as plt\n",
    "\n"
   ]
  },
  {
   "cell_type": "code",
   "execution_count": 380,
   "metadata": {
    "collapsed": false
   },
   "outputs": [],
   "source": [
    "def fetch_model_names(scenario,variable):\n",
    "    \"\"\"\n",
    "    Select models from the server. \n",
    "    Not all models are available for all scenarios\"\"\"\n",
    "    xmlpath=\"/\".join([tds_url_base,scenario,'r1i1p1','catalog.xml'])\n",
    "    #print(xmlpath)\n",
    "    abxml=urllib2.urlopen(xmlpath)\n",
    "    prog=re.compile(\"name=\\\"[a-zA-Z0-9\\-\\_]+_{0}.ncml\\\"\".format(variable))\n",
    "    mudell={}\n",
    "        \n",
    "    for i in abxml.readlines():\n",
    "        a=prog.search(i)\n",
    "        #print(i)\n",
    "        if a:\n",
    "            # no need to really initialise the opendap endpoint\n",
    "            mudell[a.group().split('=')[1].split('.')[0][1:]]=tds_url_base+\"/\"+scenario+\"/r1i1p1/\"+a.group().split('=')[1].split('.')[0][1:]+'.ncml'\n",
    "    return mudell\n",
    "\n",
    "## Compute mean subset of models, careful, takes time\n",
    "def get_subset(invars,scenarios,models):\n",
    "    \"\"\"Fetch actual data according to vars and scenarios\"\"\"\n",
    "    model_data={}\n",
    "    for v in invars:\n",
    "        print('v',v)\n",
    "        model_data[v]={}\n",
    "        for sc in scenarios:\n",
    "            print('sc',sc)\n",
    "            model_data[v][sc]={}\n",
    "            for model in models:\n",
    "                print('model',model)\n",
    "                model_data[v][sc][model]={'url':open_url(full_model_list[v][sc][model])}\n",
    "                prtemp=model_data[v][sc][model]['url'][model][model]\n",
    "                if sc=='historical':\n",
    "                    model_data[v][sc][model][v]=prtemp[tim1:tim2,lat1:lat2,lon1:lon2]\n",
    "                else:\n",
    "                    model_data[v][sc][model][v]=prtemp[timrcp1:timrcp2,lat1:lat2,lon1:lon2]\n",
    "    return model_data\n",
    "                \n",
    "def mean_of_subset(model_data):\n",
    "    \"\"\"Compute mean over spatial domain and models\"\"\"\n",
    "    sum_mean={}\n",
    "    ##aa={}\n",
    "    for v in model_data:\n",
    "        print(v)\n",
    "        ##aa[v]={}\n",
    "        sum_mean[v]={}\n",
    "        for sc in model_data[v]:\n",
    "            print(sc)\n",
    "            ##aa[v][sc]=[model_data[v][sc][j][v] for j in model_data[v][sc]]\n",
    "            aab=[model_data[v][sc][j][v] for j in model_data[v][sc]]\n",
    "            if sc=='historical':\n",
    "                sum_mean[v][sc]=np.zeros(tim2-tim1)\n",
    "            else:\n",
    "                sum_mean[v][sc]=np.zeros(timrcp2-timrcp1)\n",
    "            for i in aab:\n",
    "                #print(len(i))\n",
    "                sum_mean[v][sc]=sum_mean[v][sc]+np.mean(np.mean(i,axis=1),axis=1)\n",
    "            sum_mean[v][sc]=sum_mean[v][sc]/len(aab)\n",
    "    return sum_mean"
   ]
  },
  {
   "cell_type": "code",
   "execution_count": 353,
   "metadata": {
    "collapsed": false
   },
   "outputs": [],
   "source": [
    "def fetch_model_list(scenario):\n",
    "    \"\"\"Get models, which are available for particular scenario as pydab objects (slow for many models)\"\"\"\n",
    "    xmlpath=\"/\".join([tds_url_base,scenario,'r1i1p1','catalog.xml'])\n",
    "    #print(xmlpath)\n",
    "    abxml=urllib2.urlopen(xmlpath)\n",
    "    prog=re.compile(\"name=\\\"[a-zA-Z0-9\\-\\_]+_pr.ncml\\\"\")\n",
    "    mudell={}\n",
    "        \n",
    "    for i in abxml.readlines():\n",
    "        a=prog.search(i)\n",
    "        #print(i)\n",
    "        if a:\n",
    "            # no need to really initialise the opendap endpoint\n",
    "            mudell[a.group().split('=')[1].split('.')[0][1:]]=open_url(tds_url_base+\"/\"+scenario+\"/r1i1p1/\"+a.group().split('=')[1].split('.')[0][1:]+'.ncml')\n",
    "    return mudell"
   ]
  },
  {
   "cell_type": "code",
   "execution_count": 354,
   "metadata": {
    "collapsed": false
   },
   "outputs": [],
   "source": [
    "full_model_list={}\n",
    "for v in variables:\n",
    "    full_model_list[v]={}\n",
    "    for i in scenarios:\n",
    "        full_model_list[v][i]=fetch_model_names(i,'pr')"
   ]
  },
  {
   "cell_type": "code",
   "execution_count": 355,
   "metadata": {
    "collapsed": false
   },
   "outputs": [],
   "source": [
    "## Fetch any single model_scenario data"
   ]
  },
  {
   "cell_type": "code",
   "execution_count": 356,
   "metadata": {
    "collapsed": false
   },
   "outputs": [],
   "source": [
    "uioi=open_url(full_model_list['pr']['historical']['ACCESS1-0_pr'])"
   ]
  },
  {
   "cell_type": "code",
   "execution_count": 357,
   "metadata": {
    "collapsed": false,
    "scrolled": true
   },
   "outputs": [],
   "source": [
    "## simplify name\n",
    "pr1=uioi['ACCESS1-0_pr']['ACCESS1-0_pr']"
   ]
  },
  {
   "cell_type": "code",
   "execution_count": 358,
   "metadata": {
    "collapsed": false
   },
   "outputs": [],
   "source": [
    "## fetch coordinates, should be the same for rcp-s and all models\n",
    "##lon=np.copy(uioi['lon'][1000:1050])\n",
    "tim_full=np.copy(uioi['time'][:])\n",
    "tim=np.copy(uioi['time'][tim1:tim2])"
   ]
  },
  {
   "cell_type": "code",
   "execution_count": 359,
   "metadata": {
    "collapsed": true
   },
   "outputs": [],
   "source": [
    "lat=np.copy(uioi['lat'][lat1:lat2])\n",
    "lon=np.copy(uioi['lon'][lon1:lon2])"
   ]
  },
  {
   "cell_type": "code",
   "execution_count": 360,
   "metadata": {
    "collapsed": true
   },
   "outputs": [],
   "source": [
    "## historical and scenarios should have different time values\n",
    "uioi2=open_url(full_model_list['pr']['rcp45']['ACCESS1-0_pr'])\n",
    "#timrcp_full=np.copy(uioi2['time'][:])\n",
    "timrcp=np.copy(uioi2['time'][timrcp1:timrcp2])"
   ]
  },
  {
   "cell_type": "code",
   "execution_count": 361,
   "metadata": {
    "collapsed": false,
    "scrolled": true
   },
   "outputs": [],
   "source": [
    "##example of fetching real data\n",
    "model_data=get_subset(['pr'],['historical','rcp45'],['CCSM4_pr','MIROC-ESM-CHEM_pr','MRI-CGCM3_pr','bcc-csm1-1_pr'])"
   ]
  },
  {
   "cell_type": "code",
   "execution_count": 377,
   "metadata": {
    "collapsed": false
   },
   "outputs": [
    {
     "data": {
      "text/plain": [
       "200"
      ]
     },
     "execution_count": 377,
     "metadata": {},
     "output_type": "execute_result"
    }
   ],
   "source": [
    "len(model_data['pr']['rcp45']['MRI-CGCM3_pr']['pr'])"
   ]
  },
  {
   "cell_type": "code",
   "execution_count": 385,
   "metadata": {
    "collapsed": false
   },
   "outputs": [
    {
     "name": "stdout",
     "output_type": "stream",
     "text": [
      "pr\n",
      "rcp45\n",
      "200\n",
      "200\n",
      "200\n",
      "200\n",
      "historical\n",
      "100\n",
      "100\n",
      "100\n",
      "100\n"
     ]
    }
   ],
   "source": [
    "model_mean=mean_of_subset(model_data)"
   ]
  },
  {
   "cell_type": "code",
   "execution_count": 392,
   "metadata": {
    "collapsed": false
   },
   "outputs": [
    {
     "data": {
      "text/plain": [
       "(200,)"
      ]
     },
     "execution_count": 392,
     "metadata": {},
     "output_type": "execute_result"
    }
   ],
   "source": [
    "model_mean['pr']['rcp45'].shape"
   ]
  },
  {
   "cell_type": "code",
   "execution_count": 386,
   "metadata": {
    "collapsed": false
   },
   "outputs": [
    {
     "data": {
      "text/plain": [
       "[<matplotlib.lines.Line2D at 0x10b0dfd50>]"
      ]
     },
     "execution_count": 386,
     "metadata": {},
     "output_type": "execute_result"
    },
    {
     "data": {
      "image/png": "[encoded data removed]",
      "text/plain": [
       "<matplotlib.figure.Figure at 0x111bd1290>"
      ]
     },
     "metadata": {},
     "output_type": "display_data"
    }
   ],
   "source": [
    "plt.plot(tim[tim1:tim2],model_mean['pr']['historical'])\n",
    "plt.plot(timrcp[timrcp1:timrcp2],model_mean['pr']['rcp45'])"
   ]
  },
  {
   "cell_type": "code",
   "execution_count": null,
   "metadata": {
    "collapsed": true
   },
   "outputs": [],
   "source": []
  }
 ],
 "metadata": {
  "kernelspec": {
   "display_name": "Python 2",
   "language": "python",
   "name": "python2"
  },
  "language_info": {
   "codemirror_mode": {
    "name": "ipython",
    "version": 2
   },
   "file_extension": ".py",
   "mimetype": "text/x-python",
   "name": "python",
   "nbconvert_exporter": "python",
   "pygments_lexer": "ipython2",
   "version": "2.7.9"
  }
 },
 "nbformat": 4,
 "nbformat_minor": 0
}
