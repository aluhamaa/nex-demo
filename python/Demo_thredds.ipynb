{
 "cells": [
  {
   "cell_type": "markdown",
   "metadata": {},
   "source": [
    "**Demo for using NASA NEX DCP30 data over thredds server.**\n",
    "\n",
    "Done by script (user can modify, but should not be necessary)\n",
    "\n",
    "1. Initialise server path, variable names, scenarios\n",
    "2. Get model names\n",
    "3. Initialize variable, scenario and model dictionary\n",
    "4. Suggest dictionary kind of data types\n",
    "\n",
    "User should\n",
    "1. Change the selection of models\n",
    "2. --\"--                   area\n",
    "3. --\"--                   time range\n",
    "4. --\"--                   scenarios\n",
    "5. Data analysis, based on example function *mean_of_subset*, if necessary\n",
    "6. Plotting data\n",
    "7. etc\n",
    "\n",
    "Main data variables:\n",
    "\n",
    "**full_model_list** -- python dictionary with subdictionary hierarchy of: variable, scenario, model. Derived with function *fetch_model_names*\n",
    "                   Example: full_model_list['pr']['rcp26']['BNU-ESM_pr']=[ 'http://dataserver.nccs.nasa.gov/thredds/dodsC/bypass/NEX-DCP30/bcsd/rcp26/r1i1p1/BNU-ESM_pr.ncml']\n",
    "\n",
    "**model_data** -- python dictionary: variable, scenario, model, [variable, url] -- data in full dimensions\n",
    "\n",
    "**model_mean** -- example of averaging over models and spatial domain\n",
    "\n",
    "Coordinate selection:\n",
    "\n",
    "**tim1, tim2** -- time bounds for *historical* experiments. Numbers (units?)\n",
    "**timrcp1, timrcp2 ** -- time bound for *scenario* experiments. \n",
    "**lon1,lon2,lat1,lat2** -- geographical boundaries, by data points (not coordinate values)\n",
    "\n",
    "Coordinate values:\n",
    "\n",
    "** tim, tim_full ** -- values of actual historical time slice, computed in units ?\n",
    "\n",
    "** timrcp, timrcp_full ** -- values of actual scenario time slice\n",
    "\n",
    "** lat, lon ** -- values of actual coordinates, computed, in degrees"
   ]
  },
  {
   "cell_type": "code",
   "execution_count": 393,
   "metadata": {
    "collapsed": true
   },
   "outputs": [],
   "source": [
    "## User configurables\n",
    "## TDS base URL\n",
    "tds_url_base='http://dataserver.nccs.nasa.gov/thredds/dodsC/bypass/NEX-DCP30/bcsd'\n",
    "## Scenarios \n",
    "scenarios=['historical','rcp26','rcp45','rcp60','rcp85']\n",
    "## Realisation?\n",
    "url_step2='r1i1p1'\n",
    "## Available variables\n",
    "variables=['tasmin','tasmax','pr']\n",
    "\n",
    "## Coordinate limits, if too large then download fails\n",
    "tim1=0\n",
    "tim2=100\n",
    "timrcp1=0\n",
    "timrcp2=200\n",
    "lon1=1000\n",
    "lon2=1001\n",
    "lat1=1200\n",
    "lat2=1201\n"
   ]
  },
  {
   "cell_type": "code",
   "execution_count": 394,
   "metadata": {
    "collapsed": true
   },
   "outputs": [],
   "source": [
    "## general imports\n",
    "%matplotlib inline\n",
    "import numpy as np\n",
    "import time\n",
    "import re\n",
    "import urllib2\n",
    "from pydap.client import open_url\n",
    "import matplotlib.pyplot as plt\n",
    "\n"
   ]
  },
  {
   "cell_type": "code",
   "execution_count": 462,
   "metadata": {
    "collapsed": false
   },
   "outputs": [],
   "source": [
    "def fetch_model_names(scenario,variable):\n",
    "    \"\"\"\n",
    "    Select models from the server. \n",
    "    Not all models are available for all scenarios\"\"\"\n",
    "    xmlpath=\"/\".join([tds_url_base,scenario,'r1i1p1','catalog.xml'])\n",
    "    #print(xmlpath)\n",
    "    abxml=urllib2.urlopen(xmlpath)\n",
    "    prog=re.compile(\"name=\\\"[a-zA-Z0-9\\-\\_]+_{0}.ncml\\\"\".format(variable))\n",
    "    mudell={}\n",
    "        \n",
    "    for i in abxml.readlines():\n",
    "        a=prog.search(i)\n",
    "        #print(i)\n",
    "        if a:\n",
    "            # no need to really initialise the opendap endpoint\n",
    "            mudell[a.group().split('=')[1].split('.')[0][1:]]=tds_url_base+\"/\"+scenario+\"/r1i1p1/\"+a.group().split('=')[1].split('.')[0][1:]+'.ncml'\n",
    "    return mudell\n",
    "\n",
    "## Compute mean subset of models, careful, takes time\n",
    "def get_subset(invars,scenarios,models):\n",
    "    \"\"\"Fetch actual data according to vars and scenarios\"\"\"\n",
    "    model_data={}\n",
    "    for v in invars:\n",
    "        #print('v',v)\n",
    "        model_data[v]={}\n",
    "        for sc in scenarios:\n",
    "            #print('sc',sc)\n",
    "            model_data[v][sc]={}\n",
    "            for model in models:\n",
    "                m=model\n",
    "                model_data[v][sc][m]={'url':open_url(full_model_list[v][sc][m+'_'+v])}\n",
    "                prtemp=model_data[v][sc][m]['url'][m+'_'+v][m+'_'+v]\n",
    "                if sc=='historical':\n",
    "                    model_data[v][sc][m][v]=prtemp[tim1:tim2,lat1:lat2,lon1:lon2]\n",
    "                else:\n",
    "                    model_data[v][sc][m][v]=prtemp[timrcp1:timrcp2,lat1:lat2,lon1:lon2]\n",
    "    return model_data\n",
    "                \n",
    "def mean_of_subset(model_data):\n",
    "    \"\"\"Compute mean over spatial domain and models\"\"\"\n",
    "    sum_mean={}\n",
    "    ##aa={}\n",
    "    for v in model_data:\n",
    "        print(v)\n",
    "        ##aa[v]={}\n",
    "        sum_mean[v]={}\n",
    "        for sc in model_data[v]:\n",
    "            print(sc)\n",
    "            ##aa[v][sc]=[model_data[v][sc][j][v] for j in model_data[v][sc]]\n",
    "            aab=[model_data[v][sc][j][v] for j in model_data[v][sc]]\n",
    "            if sc=='historical':\n",
    "                sum_mean[v][sc]=np.zeros(tim2-tim1)\n",
    "            else:\n",
    "                sum_mean[v][sc]=np.zeros(timrcp2-timrcp1)\n",
    "            for i in aab:\n",
    "                #print(len(i))\n",
    "                sum_mean[v][sc]=sum_mean[v][sc]+np.mean(np.mean(i,axis=1),axis=1)\n",
    "            sum_mean[v][sc]=sum_mean[v][sc]/len(aab)\n",
    "    return sum_mean"
   ]
  },
  {
   "cell_type": "code",
   "execution_count": 454,
   "metadata": {
    "collapsed": false
   },
   "outputs": [],
   "source": [
    "def fetch_model_list(scenario):\n",
    "    \"\"\"Get models, which are available for particular scenario as pydab objects (slow for many models)\"\"\"\n",
    "    xmlpath=\"/\".join([tds_url_base,scenario,'r1i1p1','catalog.xml'])\n",
    "    #print(xmlpath)\n",
    "    abxml=urllib2.urlopen(xmlpath)\n",
    "    prog=re.compile(\"name=\\\"[a-zA-Z0-9\\-\\_]+_pr.ncml\\\"\")\n",
    "    mudell={}\n",
    "        \n",
    "    for i in abxml.readlines():\n",
    "        a=prog.search(i)\n",
    "        #print(i)\n",
    "        if a:\n",
    "            # no need to really initialise the opendap endpoint\n",
    "            mudell[a.group().split('=')[1].split('.')[0][1:]]=open_url(tds_url_base+\"/\"+scenario+\"/r1i1p1/\"+a.group().split('=')[1].split('.')[0][1:]+'.ncml')\n",
    "    return mudell"
   ]
  },
  {
   "cell_type": "code",
   "execution_count": 455,
   "metadata": {
    "collapsed": false
   },
   "outputs": [],
   "source": [
    "full_model_list={}\n",
    "for v in variables:\n",
    "    full_model_list[v]={}\n",
    "    for i in scenarios:\n",
    "        full_model_list[v][i]=fetch_model_names(i,v)"
   ]
  },
  {
   "cell_type": "code",
   "execution_count": 456,
   "metadata": {
    "collapsed": false
   },
   "outputs": [
    {
     "data": {
      "text/plain": [
       "{'ACCESS1-0_tasmax': 'http://dataserver.nccs.nasa.gov/thredds/dodsC/bypass/NEX-DCP30/bcsd/historical/r1i1p1/ACCESS1-0_tasmax.ncml',\n",
       " 'BNU-ESM_tasmax': 'http://dataserver.nccs.nasa.gov/thredds/dodsC/bypass/NEX-DCP30/bcsd/historical/r1i1p1/BNU-ESM_tasmax.ncml',\n",
       " 'CCSM4_tasmax': 'http://dataserver.nccs.nasa.gov/thredds/dodsC/bypass/NEX-DCP30/bcsd/historical/r1i1p1/CCSM4_tasmax.ncml',\n",
       " 'CESM1-BGC_tasmax': 'http://dataserver.nccs.nasa.gov/thredds/dodsC/bypass/NEX-DCP30/bcsd/historical/r1i1p1/CESM1-BGC_tasmax.ncml',\n",
       " 'CESM1-CAM5_tasmax': 'http://dataserver.nccs.nasa.gov/thredds/dodsC/bypass/NEX-DCP30/bcsd/historical/r1i1p1/CESM1-CAM5_tasmax.ncml',\n",
       " 'CMCC-CM_tasmax': 'http://dataserver.nccs.nasa.gov/thredds/dodsC/bypass/NEX-DCP30/bcsd/historical/r1i1p1/CMCC-CM_tasmax.ncml',\n",
       " 'CNRM-CM5_tasmax': 'http://dataserver.nccs.nasa.gov/thredds/dodsC/bypass/NEX-DCP30/bcsd/historical/r1i1p1/CNRM-CM5_tasmax.ncml',\n",
       " 'CSIRO-Mk3-6-0_tasmax': 'http://dataserver.nccs.nasa.gov/thredds/dodsC/bypass/NEX-DCP30/bcsd/historical/r1i1p1/CSIRO-Mk3-6-0_tasmax.ncml',\n",
       " 'CanESM2_tasmax': 'http://dataserver.nccs.nasa.gov/thredds/dodsC/bypass/NEX-DCP30/bcsd/historical/r1i1p1/CanESM2_tasmax.ncml',\n",
       " 'FGOALS-g2_tasmax': 'http://dataserver.nccs.nasa.gov/thredds/dodsC/bypass/NEX-DCP30/bcsd/historical/r1i1p1/FGOALS-g2_tasmax.ncml',\n",
       " 'FIO-ESM_tasmax': 'http://dataserver.nccs.nasa.gov/thredds/dodsC/bypass/NEX-DCP30/bcsd/historical/r1i1p1/FIO-ESM_tasmax.ncml',\n",
       " 'GFDL-CM3_tasmax': 'http://dataserver.nccs.nasa.gov/thredds/dodsC/bypass/NEX-DCP30/bcsd/historical/r1i1p1/GFDL-CM3_tasmax.ncml',\n",
       " 'GFDL-ESM2G_tasmax': 'http://dataserver.nccs.nasa.gov/thredds/dodsC/bypass/NEX-DCP30/bcsd/historical/r1i1p1/GFDL-ESM2G_tasmax.ncml',\n",
       " 'GFDL-ESM2M_tasmax': 'http://dataserver.nccs.nasa.gov/thredds/dodsC/bypass/NEX-DCP30/bcsd/historical/r1i1p1/GFDL-ESM2M_tasmax.ncml',\n",
       " 'GISS-E2-H-CC_tasmax': 'http://dataserver.nccs.nasa.gov/thredds/dodsC/bypass/NEX-DCP30/bcsd/historical/r1i1p1/GISS-E2-H-CC_tasmax.ncml',\n",
       " 'GISS-E2-R-CC_tasmax': 'http://dataserver.nccs.nasa.gov/thredds/dodsC/bypass/NEX-DCP30/bcsd/historical/r1i1p1/GISS-E2-R-CC_tasmax.ncml',\n",
       " 'GISS-E2-R_tasmax': 'http://dataserver.nccs.nasa.gov/thredds/dodsC/bypass/NEX-DCP30/bcsd/historical/r1i1p1/GISS-E2-R_tasmax.ncml',\n",
       " 'HadGEM2-AO_tasmax': 'http://dataserver.nccs.nasa.gov/thredds/dodsC/bypass/NEX-DCP30/bcsd/historical/r1i1p1/HadGEM2-AO_tasmax.ncml',\n",
       " 'HadGEM2-CC_tasmax': 'http://dataserver.nccs.nasa.gov/thredds/dodsC/bypass/NEX-DCP30/bcsd/historical/r1i1p1/HadGEM2-CC_tasmax.ncml',\n",
       " 'HadGEM2-ES_tasmax': 'http://dataserver.nccs.nasa.gov/thredds/dodsC/bypass/NEX-DCP30/bcsd/historical/r1i1p1/HadGEM2-ES_tasmax.ncml',\n",
       " 'IPSL-CM5A-LR_tasmax': 'http://dataserver.nccs.nasa.gov/thredds/dodsC/bypass/NEX-DCP30/bcsd/historical/r1i1p1/IPSL-CM5A-LR_tasmax.ncml',\n",
       " 'IPSL-CM5A-MR_tasmax': 'http://dataserver.nccs.nasa.gov/thredds/dodsC/bypass/NEX-DCP30/bcsd/historical/r1i1p1/IPSL-CM5A-MR_tasmax.ncml',\n",
       " 'IPSL-CM5B-LR_tasmax': 'http://dataserver.nccs.nasa.gov/thredds/dodsC/bypass/NEX-DCP30/bcsd/historical/r1i1p1/IPSL-CM5B-LR_tasmax.ncml',\n",
       " 'MIROC-ESM-CHEM_tasmax': 'http://dataserver.nccs.nasa.gov/thredds/dodsC/bypass/NEX-DCP30/bcsd/historical/r1i1p1/MIROC-ESM-CHEM_tasmax.ncml',\n",
       " 'MIROC-ESM_tasmax': 'http://dataserver.nccs.nasa.gov/thredds/dodsC/bypass/NEX-DCP30/bcsd/historical/r1i1p1/MIROC-ESM_tasmax.ncml',\n",
       " 'MIROC5_tasmax': 'http://dataserver.nccs.nasa.gov/thredds/dodsC/bypass/NEX-DCP30/bcsd/historical/r1i1p1/MIROC5_tasmax.ncml',\n",
       " 'MPI-ESM-LR_tasmax': 'http://dataserver.nccs.nasa.gov/thredds/dodsC/bypass/NEX-DCP30/bcsd/historical/r1i1p1/MPI-ESM-LR_tasmax.ncml',\n",
       " 'MPI-ESM-MR_tasmax': 'http://dataserver.nccs.nasa.gov/thredds/dodsC/bypass/NEX-DCP30/bcsd/historical/r1i1p1/MPI-ESM-MR_tasmax.ncml',\n",
       " 'MRI-CGCM3_tasmax': 'http://dataserver.nccs.nasa.gov/thredds/dodsC/bypass/NEX-DCP30/bcsd/historical/r1i1p1/MRI-CGCM3_tasmax.ncml',\n",
       " 'NorESM1-M_tasmax': 'http://dataserver.nccs.nasa.gov/thredds/dodsC/bypass/NEX-DCP30/bcsd/historical/r1i1p1/NorESM1-M_tasmax.ncml',\n",
       " 'bcc-csm1-1-m_tasmax': 'http://dataserver.nccs.nasa.gov/thredds/dodsC/bypass/NEX-DCP30/bcsd/historical/r1i1p1/bcc-csm1-1-m_tasmax.ncml',\n",
       " 'bcc-csm1-1_tasmax': 'http://dataserver.nccs.nasa.gov/thredds/dodsC/bypass/NEX-DCP30/bcsd/historical/r1i1p1/bcc-csm1-1_tasmax.ncml',\n",
       " 'inmcm4_tasmax': 'http://dataserver.nccs.nasa.gov/thredds/dodsC/bypass/NEX-DCP30/bcsd/historical/r1i1p1/inmcm4_tasmax.ncml'}"
      ]
     },
     "execution_count": 456,
     "metadata": {},
     "output_type": "execute_result"
    }
   ],
   "source": [
    "full_model_list['tasmax']['historical']"
   ]
  },
  {
   "cell_type": "code",
   "execution_count": 355,
   "metadata": {
    "collapsed": false
   },
   "outputs": [],
   "source": [
    "## Fetch any single model_scenario data"
   ]
  },
  {
   "cell_type": "code",
   "execution_count": 429,
   "metadata": {
    "collapsed": false
   },
   "outputs": [],
   "source": [
    "uioi=open_url(full_model_list['pr']['historical']['ACCESS1-0'])"
   ]
  },
  {
   "cell_type": "code",
   "execution_count": 430,
   "metadata": {
    "collapsed": false,
    "scrolled": true
   },
   "outputs": [],
   "source": [
    "## simplify name\n",
    "pr1=uioi['ACCESS1-0']['ACCESS1-0']"
   ]
  },
  {
   "cell_type": "code",
   "execution_count": 431,
   "metadata": {
    "collapsed": false
   },
   "outputs": [],
   "source": [
    "## fetch coordinates, should be the same for rcp-s and all models\n",
    "##lon=np.copy(uioi['lon'][1000:1050])\n",
    "tim_full=np.copy(uioi['time'][:])\n",
    "tim=np.copy(uioi['time'][tim1:tim2])"
   ]
  },
  {
   "cell_type": "code",
   "execution_count": 432,
   "metadata": {
    "collapsed": true
   },
   "outputs": [],
   "source": [
    "lat=np.copy(uioi['lat'][lat1:lat2])\n",
    "lon=np.copy(uioi['lon'][lon1:lon2])"
   ]
  },
  {
   "cell_type": "code",
   "execution_count": 433,
   "metadata": {
    "collapsed": true
   },
   "outputs": [],
   "source": [
    "## historical and scenarios should have different time values\n",
    "uioi2=open_url(full_model_list['pr']['rcp45']['ACCESS1-0'])\n",
    "#timrcp_full=np.copy(uioi2['time'][:])\n",
    "timrcp=np.copy(uioi2['time'][timrcp1:timrcp2])"
   ]
  },
  {
   "cell_type": "code",
   "execution_count": 467,
   "metadata": {
    "collapsed": false,
    "scrolled": true
   },
   "outputs": [],
   "source": [
    "##example of fetching real data\n",
    "model_data=get_subset(['pr'],['historical','rcp45'],['CCSM4','MIROC-ESM-CHEM','MRI-CGCM3','bcc-csm1-1'])"
   ]
  },
  {
   "cell_type": "code",
   "execution_count": 463,
   "metadata": {
    "collapsed": false
   },
   "outputs": [],
   "source": [
    "model_data2=get_subset(['tasmin','pr'],['historical'],['CCSM4'])"
   ]
  },
  {
   "cell_type": "code",
   "execution_count": 468,
   "metadata": {
    "collapsed": false
   },
   "outputs": [
    {
     "data": {
      "text/plain": [
       "{'tasmin': array([[[ 269.70217896]],\n",
       " \n",
       "        [[ 271.93383789]],\n",
       " \n",
       "        [[ 273.30435181]],\n",
       " \n",
       "        [[ 278.62536621]],\n",
       " \n",
       "        [[ 281.84857178]],\n",
       " \n",
       "        [[ 285.49667358]],\n",
       " \n",
       "        [[ 288.37472534]],\n",
       " \n",
       "        [[ 286.6862793 ]],\n",
       " \n",
       "        [[ 283.88290405]],\n",
       " \n",
       "        [[ 277.76992798]],\n",
       " \n",
       "        [[ 276.01904297]],\n",
       " \n",
       "        [[ 272.86526489]],\n",
       " \n",
       "        [[ 271.79873657]],\n",
       " \n",
       "        [[ 273.94396973]],\n",
       " \n",
       "        [[ 271.93453979]],\n",
       " \n",
       "        [[ 276.69155884]],\n",
       " \n",
       "        [[ 281.38842773]],\n",
       " \n",
       "        [[ 284.71652222]],\n",
       " \n",
       "        [[ 288.37310791]],\n",
       " \n",
       "        [[ 288.50985718]],\n",
       " \n",
       "        [[ 286.47259521]],\n",
       " \n",
       "        [[ 278.49789429]],\n",
       " \n",
       "        [[ 275.37185669]],\n",
       " \n",
       "        [[ 272.38238525]],\n",
       " \n",
       "        [[ 271.18106079]],\n",
       " \n",
       "        [[ 274.07540894]],\n",
       " \n",
       "        [[ 274.7855835 ]],\n",
       " \n",
       "        [[ 277.82974243]],\n",
       " \n",
       "        [[ 279.3651123 ]],\n",
       " \n",
       "        [[ 282.94436646]],\n",
       " \n",
       "        [[ 290.0279541 ]],\n",
       " \n",
       "        [[ 289.66879272]],\n",
       " \n",
       "        [[ 286.64654541]],\n",
       " \n",
       "        [[ 278.23049927]],\n",
       " \n",
       "        [[ 274.26507568]],\n",
       " \n",
       "        [[ 274.40866089]],\n",
       " \n",
       "        [[ 274.15805054]],\n",
       " \n",
       "        [[ 272.44451904]],\n",
       " \n",
       "        [[ 272.27145386]],\n",
       " \n",
       "        [[ 276.93130493]],\n",
       " \n",
       "        [[ 282.09320068]],\n",
       " \n",
       "        [[ 282.36117554]],\n",
       " \n",
       "        [[ 287.39508057]],\n",
       " \n",
       "        [[ 288.121521  ]],\n",
       " \n",
       "        [[ 284.2074585 ]],\n",
       " \n",
       "        [[ 280.15600586]],\n",
       " \n",
       "        [[ 274.18896484]],\n",
       " \n",
       "        [[ 270.80050659]],\n",
       " \n",
       "        [[ 272.40853882]],\n",
       " \n",
       "        [[ 275.26248169]],\n",
       " \n",
       "        [[ 276.22866821]],\n",
       " \n",
       "        [[ 278.3140564 ]],\n",
       " \n",
       "        [[ 280.57528687]],\n",
       " \n",
       "        [[ 283.34481812]],\n",
       " \n",
       "        [[ 289.72857666]],\n",
       " \n",
       "        [[ 289.27069092]],\n",
       " \n",
       "        [[ 285.80270386]],\n",
       " \n",
       "        [[ 281.90960693]],\n",
       " \n",
       "        [[ 275.06265259]],\n",
       " \n",
       "        [[ 271.69137573]],\n",
       " \n",
       "        [[ 269.81411743]],\n",
       " \n",
       "        [[ 271.99197388]],\n",
       " \n",
       "        [[ 273.90844727]],\n",
       " \n",
       "        [[ 275.27630615]],\n",
       " \n",
       "        [[ 280.74847412]],\n",
       " \n",
       "        [[ 283.41055298]],\n",
       " \n",
       "        [[ 287.80047607]],\n",
       " \n",
       "        [[ 288.39007568]],\n",
       " \n",
       "        [[ 283.9569397 ]],\n",
       " \n",
       "        [[ 280.41983032]],\n",
       " \n",
       "        [[ 276.44281006]],\n",
       " \n",
       "        [[ 272.94140625]],\n",
       " \n",
       "        [[ 270.21105957]],\n",
       " \n",
       "        [[ 270.76721191]],\n",
       " \n",
       "        [[ 274.46398926]],\n",
       " \n",
       "        [[ 279.01074219]],\n",
       " \n",
       "        [[ 282.6829834 ]],\n",
       " \n",
       "        [[ 285.6267395 ]],\n",
       " \n",
       "        [[ 289.12637329]],\n",
       " \n",
       "        [[ 287.69631958]],\n",
       " \n",
       "        [[ 285.18310547]],\n",
       " \n",
       "        [[ 280.15454102]],\n",
       " \n",
       "        [[ 274.45404053]],\n",
       " \n",
       "        [[ 272.06503296]],\n",
       " \n",
       "        [[ 272.04199219]],\n",
       " \n",
       "        [[ 273.9781189 ]],\n",
       " \n",
       "        [[ 273.66351318]],\n",
       " \n",
       "        [[ 277.33908081]],\n",
       " \n",
       "        [[ 279.21624756]],\n",
       " \n",
       "        [[ 283.20309448]],\n",
       " \n",
       "        [[ 287.15316772]],\n",
       " \n",
       "        [[ 287.13479614]],\n",
       " \n",
       "        [[ 281.58068848]],\n",
       " \n",
       "        [[ 276.95141602]],\n",
       " \n",
       "        [[ 275.06243896]],\n",
       " \n",
       "        [[ 272.23596191]],\n",
       " \n",
       "        [[ 274.52746582]],\n",
       " \n",
       "        [[ 272.51678467]],\n",
       " \n",
       "        [[ 276.60058594]],\n",
       " \n",
       "        [[ 276.72741699]]], dtype=float32),\n",
       " 'url': {'lat': <pydap.model.BaseType object at 0x1122c64d0>, 'lon': <pydap.model.BaseType object at 0x1122c6bd0>, 'lat_bnds': <pydap.model.BaseType object at 0x1122c6cd0>, 'lon_bnds': <pydap.model.BaseType object at 0x1111e7f90>, 'CCSM4_tasmin': {'CCSM4_tasmin': <pydap.model.BaseType object at 0x1111e7e90>, 'time': <pydap.model.BaseType object at 0x1111e7810>, 'lat': <pydap.model.BaseType object at 0x1111e7910>, 'lon': <pydap.model.BaseType object at 0x1111e7750>}, 'time': <pydap.model.BaseType object at 0x1111e77d0>, 'time_bnds': <pydap.model.BaseType object at 0x1111e7e10>}}"
      ]
     },
     "execution_count": 468,
     "metadata": {},
     "output_type": "execute_result"
    }
   ],
   "source": [
    "model_data2['tasmin']['historical']['CCSM4']"
   ]
  },
  {
   "cell_type": "code",
   "execution_count": 476,
   "metadata": {
    "collapsed": false
   },
   "outputs": [
    {
     "ename": "KeyError",
     "evalue": "'rcp_45'",
     "output_type": "error",
     "traceback": [
      "\u001b[0;31m---------------------------------------------------------------------------\u001b[0m",
      "\u001b[0;31mKeyError\u001b[0m                                  Traceback (most recent call last)",
      "\u001b[0;32m<ipython-input-476-609791888311>\u001b[0m in \u001b[0;36m<module>\u001b[0;34m()\u001b[0m\n\u001b[1;32m      1\u001b[0m \u001b[0mplt\u001b[0m\u001b[0;34m.\u001b[0m\u001b[0mplot\u001b[0m\u001b[0;34m(\u001b[0m\u001b[0mmodel_data2\u001b[0m\u001b[0;34m[\u001b[0m\u001b[0;34m'tasmin'\u001b[0m\u001b[0;34m]\u001b[0m\u001b[0;34m[\u001b[0m\u001b[0;34m'historical'\u001b[0m\u001b[0;34m]\u001b[0m\u001b[0;34m[\u001b[0m\u001b[0;34m'CCSM4'\u001b[0m\u001b[0;34m]\u001b[0m\u001b[0;34m[\u001b[0m\u001b[0;34m'tasmin'\u001b[0m\u001b[0;34m]\u001b[0m\u001b[0;34m[\u001b[0m\u001b[0;34m:\u001b[0m\u001b[0;34m,\u001b[0m\u001b[0;36m0\u001b[0m\u001b[0;34m,\u001b[0m\u001b[0;36m0\u001b[0m\u001b[0;34m]\u001b[0m\u001b[0;34m)\u001b[0m\u001b[0;34m\u001b[0m\u001b[0m\n\u001b[0;32m----> 2\u001b[0;31m \u001b[0mplt\u001b[0m\u001b[0;34m.\u001b[0m\u001b[0mplot\u001b[0m\u001b[0;34m(\u001b[0m\u001b[0mmodel_data2\u001b[0m\u001b[0;34m[\u001b[0m\u001b[0;34m'tasmin'\u001b[0m\u001b[0;34m]\u001b[0m\u001b[0;34m[\u001b[0m\u001b[0;34m'rcp_45'\u001b[0m\u001b[0;34m]\u001b[0m\u001b[0;34m[\u001b[0m\u001b[0;34m'CCSM4'\u001b[0m\u001b[0;34m]\u001b[0m\u001b[0;34m[\u001b[0m\u001b[0;34m'tasmin'\u001b[0m\u001b[0;34m]\u001b[0m\u001b[0;34m[\u001b[0m\u001b[0;34m:\u001b[0m\u001b[0;34m,\u001b[0m\u001b[0;36m0\u001b[0m\u001b[0;34m,\u001b[0m\u001b[0;36m0\u001b[0m\u001b[0;34m]\u001b[0m\u001b[0;34m)\u001b[0m\u001b[0;34m\u001b[0m\u001b[0m\n\u001b[0m",
      "\u001b[0;31mKeyError\u001b[0m: 'rcp_45'"
     ]
    },
    {
     "data": {
      "image/png": "[encoded data removed]",
      "text/plain": [
       "<matplotlib.figure.Figure at 0x10b0ca3d0>"
      ]
     },
     "metadata": {},
     "output_type": "display_data"
    }
   ],
   "source": [
    "plt.plot(model_data2['tasmin']['historical']['CCSM4']['tasmin'][:,0,0])"
   ]
  },
  {
   "cell_type": "code",
   "execution_count": 470,
   "metadata": {
    "collapsed": false
   },
   "outputs": [
    {
     "data": {
      "text/plain": [
       "200"
      ]
     },
     "execution_count": 470,
     "metadata": {},
     "output_type": "execute_result"
    }
   ],
   "source": [
    "len(model_data['pr']['rcp45']['MRI-CGCM3']['pr'])"
   ]
  },
  {
   "cell_type": "code",
   "execution_count": 471,
   "metadata": {
    "collapsed": false
   },
   "outputs": [
    {
     "name": "stdout",
     "output_type": "stream",
     "text": [
      "pr\n",
      "rcp45\n",
      "historical\n"
     ]
    }
   ],
   "source": [
    "model_mean=mean_of_subset(model_data)"
   ]
  },
  {
   "cell_type": "code",
   "execution_count": 472,
   "metadata": {
    "collapsed": false
   },
   "outputs": [
    {
     "data": {
      "text/plain": [
       "(200,)"
      ]
     },
     "execution_count": 472,
     "metadata": {},
     "output_type": "execute_result"
    }
   ],
   "source": [
    "model_mean['pr']['rcp45'].shape"
   ]
  },
  {
   "cell_type": "code",
   "execution_count": 473,
   "metadata": {
    "collapsed": false
   },
   "outputs": [
    {
     "data": {
      "text/plain": [
       "[<matplotlib.lines.Line2D at 0x110f3aa50>]"
      ]
     },
     "execution_count": 473,
     "metadata": {},
     "output_type": "execute_result"
    },
    {
     "data": {
      "image/png": "[encoded data removed]",
      "text/plain": [
       "<matplotlib.figure.Figure at 0x1125f4790>"
      ]
     },
     "metadata": {},
     "output_type": "display_data"
    }
   ],
   "source": [
    "plt.plot(tim[tim1:tim2],model_mean['pr']['historical'])\n",
    "plt.plot(timrcp[timrcp1:timrcp2],model_mean['pr']['rcp45'])"
   ]
  },
  {
   "cell_type": "code",
   "execution_count": null,
   "metadata": {
    "collapsed": true
   },
   "outputs": [],
   "source": []
  }
 ],
 "metadata": {
  "kernelspec": {
   "display_name": "Python 2",
   "language": "python",
   "name": "python2"
  },
  "language_info": {
   "codemirror_mode": {
    "name": "ipython",
    "version": 2
   },
   "file_extension": ".py",
   "mimetype": "text/x-python",
   "name": "python",
   "nbconvert_exporter": "python",
   "pygments_lexer": "ipython2",
   "version": "2.7.9"
  }
 },
 "nbformat": 4,
 "nbformat_minor": 0
}
